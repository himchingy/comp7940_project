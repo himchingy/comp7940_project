{
 "cells": [
  {
   "cell_type": "code",
   "execution_count": 6,
   "metadata": {},
   "outputs": [
    {
     "name": "stdout",
     "output_type": "stream",
     "text": [
      "https://www.afcd.gov.hk/english/country/cou_vis/cou_vis_cou/cou_vis_cou_skw/images/11876_s.jpg\n",
      "https://www.afcd.gov.hk/english/country/cou_vis/cou_vis_cou/cou_vis_cou_skw/images/CP_photo_SKW_OverlookMaOnShan_CheungSheungCountryTrail_s.jpg\n",
      "https://www.afcd.gov.hk/english/country/cou_vis/cou_vis_cou/cou_vis_cou_skw/images/CP_photo_SKW_PakTamChungFamilyWalk_s.jpg\n",
      "https://www.afcd.gov.hk/english/country/cou_vis/cou_vis_cou/cou_vis_cou_skw/images/f0239.jpg\n",
      "https://www.afcd.gov.hk/english/country/cou_vis/cou_vis_cou/cou_vis_cou_skw/images/CP_photo_SKW_HoiHaWan_s.jpg\n",
      "https://www.afcd.gov.hk/english/country/cou_vis/cou_vis_cou/cou_vis_cou_skw/images/CP_photo_SKW_LongHarbour_s.jpg\n"
     ]
    }
   ],
   "source": [
    "import requests\n",
    "from bs4 import BeautifulSoup\n",
    "from urllib.parse import urljoin\n",
    "\n",
    "def get_image_links(url):\n",
    "    # Send a GET request\n",
    "    response = requests.get(url)\n",
    "\n",
    "    # Parse the HTML content of the page with BeautifulSoup\n",
    "    soup = BeautifulSoup(response.text, 'html.parser')\n",
    "\n",
    "    # Find the table with the class 'content'\n",
    "    table = soup.find('table')\n",
    "\n",
    "    # Find all image tags within this table\n",
    "    images = table.find_all('img')\n",
    "\n",
    "    # Extract the 'src' attribute from each image tag\n",
    "    image_links = [urljoin(url, img['src']) for img in images]\n",
    "\n",
    "    # Filter the list to include only .jpg and .png images\n",
    "    image_links = [link for link in image_links if link.endswith('.jpg') or link.endswith('.png')]\n",
    "\n",
    "    return image_links\n",
    "\n",
    "# Replace 'https://example.com' with the URL of the webpage you want to scrape\n",
    "image_links = get_image_links('https://www.afcd.gov.hk/english/country/cou_vis/cou_vis_cou/cou_vis_cou_skw/cou_vis_cou_skw.html')\n",
    "\n",
    "for link in image_links:\n",
    "    print(link)"
   ]
  },
  {
   "cell_type": "code",
   "execution_count": null,
   "metadata": {},
   "outputs": [],
   "source": [
    "https://www.afcd.gov.hk/english/country/cou_vis/cou_vis_cou/cou_vis_cou_psl/images/CP_photo_PSL_OverlookingMaTauFung_fromPSLNatureTrail_s.jpg"
   ]
  },
  {
   "cell_type": "code",
   "execution_count": 12,
   "metadata": {},
   "outputs": [
    {
     "name": "stdout",
     "output_type": "stream",
     "text": [
      "['https://www.afcd.gov.hk/english/country/cou_vis/cou_vis_cou/cou_vis_cou_skw/images/11876_s.jpg', 'https://www.afcd.gov.hk/english/country/cou_vis/cou_vis_cou/cou_vis_cou_skw/images/CP_photo_SKW_OverlookMaOnShan_CheungSheungCountryTrail_s.jpg', 'https://www.afcd.gov.hk/english/country/cou_vis/cou_vis_cou/cou_vis_cou_skw/images/CP_photo_SKW_PakTamChungFamilyWalk_s.jpg', 'https://www.afcd.gov.hk/english/country/cou_vis/cou_vis_cou/cou_vis_cou_skw/images/f0239.jpg', 'https://www.afcd.gov.hk/english/country/cou_vis/cou_vis_cou/cou_vis_cou_skw/images/CP_photo_SKW_HoiHaWan_s.jpg', 'https://www.afcd.gov.hk/english/country/cou_vis/cou_vis_cou/cou_vis_cou_skw/images/CP_photo_SKW_LongHarbour_s.jpg']\n"
     ]
    }
   ],
   "source": [
    "# Send a request to the webpage\n",
    "def search_afcd(url, target_text):\n",
    "    response = requests.get(url)\n",
    "    soup = BeautifulSoup(response.text, 'html.parser')\n",
    "    table = soup.find('table')\n",
    "    target_url = None\n",
    "\n",
    "    for row in table.find_all('tr'):\n",
    "        cells = row.find_all('td')\n",
    "        if cells:\n",
    "            link = cells[0].find('a')\n",
    "            if link and target_text in link.get_text():\n",
    "                target_url = urljoin(url, link['href'])\n",
    "                break\n",
    "\n",
    "    if target_url:\n",
    "        # print(f\"URL for '{target_text}': {target_url}\")\n",
    "        get_image_links(target_url)\n",
    "\n",
    "    else:\n",
    "        print(f\"URL not found for '{target_text}'.\")\n",
    "\n",
    "url = 'https://www.afcd.gov.hk/english/country/cou_lea/the_facts.html'  # Replace with the URL of the webpage\n",
    "search_afcd(url, \"Sai Kung West\")"
   ]
  },
  {
   "cell_type": "code",
   "execution_count": null,
   "metadata": {},
   "outputs": [],
   "source": []
  }
 ],
 "metadata": {
  "kernelspec": {
   "display_name": "COMP7940",
   "language": "python",
   "name": "python3"
  },
  "language_info": {
   "codemirror_mode": {
    "name": "ipython",
    "version": 3
   },
   "file_extension": ".py",
   "mimetype": "text/x-python",
   "name": "python",
   "nbconvert_exporter": "python",
   "pygments_lexer": "ipython3",
   "version": "3.10.13"
  }
 },
 "nbformat": 4,
 "nbformat_minor": 2
}
